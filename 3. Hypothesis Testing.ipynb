{
 "cells": [
  {
   "cell_type": "markdown",
   "id": "ff674bad",
   "metadata": {},
   "source": [
    "### Hypothesis Testing\n",
    "\n",
    "    * Idea is being tested"
   ]
  },
  {
   "cell_type": "code",
   "execution_count": 1,
   "id": "d96139b5",
   "metadata": {},
   "outputs": [],
   "source": [
    "import pandas as pd\n",
    "import numpy as np\n",
    "from scipy import stats"
   ]
  },
  {
   "cell_type": "markdown",
   "id": "97f545a2",
   "metadata": {},
   "source": [
    "### Super Market example"
   ]
  },
  {
   "cell_type": "code",
   "execution_count": null,
   "id": "cf668002",
   "metadata": {},
   "outputs": [],
   "source": [
    "# H0 : s<= 120 per week (population mean)\n",
    "# H1 : s> 120  per week\n",
    "\n",
    "# n=80, x = 130 ( sample mean), sd = 40\n",
    "\n",
    "# should the loyalty program be launched ?\n",
    "\n",
    "# One sample - One Tail Test\n"
   ]
  },
  {
   "cell_type": "code",
   "execution_count": 2,
   "id": "30661ca7",
   "metadata": {},
   "outputs": [
    {
     "data": {
      "text/plain": [
       "2.23606797749979"
      ]
     },
     "execution_count": 2,
     "metadata": {},
     "output_type": "execute_result"
    }
   ],
   "source": [
    "loyalty = (130-120)/(40/np.sqrt(80))\n",
    "loyalty"
   ]
  },
  {
   "cell_type": "code",
   "execution_count": null,
   "id": "eec5c394",
   "metadata": {},
   "outputs": [],
   "source": [
    "### CI - 95% , Z = 2, z std value is less than 2.23 - hence reject the null Hypothesis"
   ]
  },
  {
   "cell_type": "code",
   "execution_count": 7,
   "id": "83e2a3d3",
   "metadata": {},
   "outputs": [
    {
     "data": {
      "text/plain": [
       "0.014052515086515394"
      ]
     },
     "execution_count": 7,
     "metadata": {},
     "output_type": "execute_result"
    }
   ],
   "source": [
    "# by calculating Area\n",
    "\n",
    "p_values = 1-stats.t.cdf(2.237,df=79)\n",
    "p_values"
   ]
  },
  {
   "cell_type": "code",
   "execution_count": null,
   "id": "2a1e2ae6",
   "metadata": {},
   "outputs": [],
   "source": [
    "# so only p=1% chance that null hypothesis is true, so reject the null as p value 1% < alpha 5%, launch the loyalty program  "
   ]
  },
  {
   "cell_type": "code",
   "execution_count": null,
   "id": "2644cc39",
   "metadata": {},
   "outputs": [],
   "source": [
    "### we have assumed Ho to be true initially & its probability is 1%."
   ]
  },
  {
   "cell_type": "code",
   "execution_count": null,
   "id": "d0c30574",
   "metadata": {},
   "outputs": [],
   "source": [
    "# If I reject the null hypothesis I will be wrong with 1.405%. (can take chances till 5% only) so reject H0"
   ]
  },
  {
   "cell_type": "code",
   "execution_count": null,
   "id": "4a911eef",
   "metadata": {},
   "outputs": [],
   "source": []
  },
  {
   "cell_type": "markdown",
   "id": "5421ed81",
   "metadata": {},
   "source": [
    "### Call Center Problem"
   ]
  },
  {
   "cell_type": "code",
   "execution_count": 12,
   "id": "a9ac212f",
   "metadata": {},
   "outputs": [
    {
     "data": {
      "text/plain": [
       "1.4142135623730943"
      ]
     },
     "execution_count": 12,
     "metadata": {},
     "output_type": "execute_result"
    }
   ],
   "source": [
    "#  sample mean - x = 4.6 min, population mean - mu = 4 min, std dev population =3 min, sample size = 50 calls/Day\n",
    "\n",
    "# H0 : mu = 4\n",
    "# H1 : mu != 4\n",
    "\n",
    "# One Sample - Two Tail Test\n",
    "\n",
    "z_score = (4.6-4)/(3/pow(50,0.5))\n",
    "z_score"
   ]
  },
  {
   "cell_type": "code",
   "execution_count": null,
   "id": "fdadafa5",
   "metadata": {},
   "outputs": [],
   "source": [
    "### CI - 95% , -2<= Z <= 2, z score is within the z range - Accept the null Hypothesis"
   ]
  },
  {
   "cell_type": "code",
   "execution_count": 13,
   "id": "791a834e",
   "metadata": {},
   "outputs": [
    {
     "data": {
      "text/plain": [
       "0.16362201811838478"
      ]
     },
     "execution_count": 13,
     "metadata": {},
     "output_type": "execute_result"
    }
   ],
   "source": [
    "# by calculating Area   - software cal left side area - which is symmetric \n",
    "# Desired area = area left to -1.41 + Area right to 1.41 \n",
    "\n",
    "p_value = 2*stats.t.cdf(-z_score,df=49)\n",
    "p_value"
   ]
  },
  {
   "cell_type": "code",
   "execution_count": null,
   "id": "0cd757b2",
   "metadata": {},
   "outputs": [],
   "source": [
    "## p_value > alpha (significance level) - Accept the null Hypothesis."
   ]
  },
  {
   "cell_type": "code",
   "execution_count": null,
   "id": "6ee9557f",
   "metadata": {},
   "outputs": [],
   "source": [
    "# If I reject the null hypothesis I will be wrong with 16.36%. (take chances till 5% only)"
   ]
  },
  {
   "cell_type": "code",
   "execution_count": null,
   "id": "745367e4",
   "metadata": {},
   "outputs": [],
   "source": []
  },
  {
   "cell_type": "markdown",
   "id": "468b1db1",
   "metadata": {},
   "source": [
    "### One Population / Sample Test"
   ]
  },
  {
   "cell_type": "code",
   "execution_count": 14,
   "id": "3905003a",
   "metadata": {},
   "outputs": [],
   "source": [
    "# An outbreak of Salmonella-related illness was attributed to ice cream produced at a certain factory.\n",
    "#Scientists measured the level of Salmonella in 9 randomly sampled batches of ice cream. The levels (in MPN/g) were:\n",
    "\n",
    "data=pd.Series([0.593, 0.142, 0.329, 0.691, 0.231, 0.793, 0.519, 0.392, 0.418])\n",
    "\n",
    "# Is there evidence that the mean level of Salmonella in the ice cream is greater than 0.3 MPN/g?"
   ]
  },
  {
   "cell_type": "code",
   "execution_count": null,
   "id": "488a3c49",
   "metadata": {},
   "outputs": [],
   "source": [
    "# we have been given a sample - no population mean,std or sample parameters"
   ]
  },
  {
   "cell_type": "code",
   "execution_count": null,
   "id": "b15b4f83",
   "metadata": {},
   "outputs": [],
   "source": [
    "# H0 : mu <= 0.3\n",
    "# H1 : mu > 0.3"
   ]
  },
  {
   "cell_type": "code",
   "execution_count": 15,
   "id": "9d21dc8c",
   "metadata": {},
   "outputs": [
    {
     "data": {
      "text/plain": [
       "Ttest_1sampResult(statistic=2.2050588385131595, pvalue=0.029265164842448826)"
      ]
     },
     "execution_count": 15,
     "metadata": {},
     "output_type": "execute_result"
    }
   ],
   "source": [
    "import scipy\n",
    "scipy.stats.ttest_1samp(data,0.3,alternative='greater')"
   ]
  },
  {
   "cell_type": "code",
   "execution_count": null,
   "id": "b380c284",
   "metadata": {},
   "outputs": [],
   "source": [
    "# pvalue is 2.926% possibility that we can be wrong if we reject H0"
   ]
  },
  {
   "cell_type": "code",
   "execution_count": null,
   "id": "be9ec57a",
   "metadata": {},
   "outputs": [],
   "source": [
    "# Reject the null hypothesis at the 0.05 significance level."
   ]
  },
  {
   "cell_type": "code",
   "execution_count": null,
   "id": "f9d90ae0",
   "metadata": {},
   "outputs": [],
   "source": []
  },
  {
   "cell_type": "code",
   "execution_count": 16,
   "id": "189cd0b7",
   "metadata": {},
   "outputs": [
    {
     "data": {
      "text/plain": [
       "0.029265164842448826"
      ]
     },
     "execution_count": 16,
     "metadata": {},
     "output_type": "execute_result"
    }
   ],
   "source": [
    "## accesing the p value inside \n",
    "p=stats.ttest_1samp(data,0.3,alternative='greater')[1]\n",
    "p"
   ]
  },
  {
   "cell_type": "code",
   "execution_count": null,
   "id": "f9ec76d9",
   "metadata": {},
   "outputs": [],
   "source": [
    "# now I Can perform operation on p values like p/2 etc to find the Z score"
   ]
  },
  {
   "cell_type": "code",
   "execution_count": null,
   "id": "d912c21b",
   "metadata": {},
   "outputs": [],
   "source": [
    "# Test Statistic = Z score = (sample mean - population mean)/(std./sqrt sample size)= (x-mu)/(sigma/sqrt n)"
   ]
  },
  {
   "cell_type": "code",
   "execution_count": 22,
   "id": "ce5f731b",
   "metadata": {},
   "outputs": [
    {
     "data": {
      "text/plain": [
       "0.02926516660019296"
      ]
     },
     "execution_count": 22,
     "metadata": {},
     "output_type": "execute_result"
    }
   ],
   "source": [
    "# Using t-Distribution\n",
    "1-stats.t.cdf(2.2050588,8)"
   ]
  },
  {
   "cell_type": "code",
   "execution_count": 23,
   "id": "1af35980",
   "metadata": {
    "scrolled": true
   },
   "outputs": [
    {
     "data": {
      "text/plain": [
       "0.013724984339042567"
      ]
     },
     "execution_count": 23,
     "metadata": {},
     "output_type": "execute_result"
    }
   ],
   "source": [
    "# Using Normal Distribution  - We have very less data so better to go with T Statistic\n",
    "1-stats.norm.cdf(2.2050588)"
   ]
  },
  {
   "cell_type": "code",
   "execution_count": null,
   "id": "9f8fe549",
   "metadata": {},
   "outputs": [],
   "source": []
  },
  {
   "cell_type": "markdown",
   "id": "799aac48",
   "metadata": {},
   "source": [
    "### Alternative Hypothesis - 'two-sided',  'less',  'greater'\n",
    "* Bydefault \"two-sided\""
   ]
  },
  {
   "cell_type": "code",
   "execution_count": null,
   "id": "48662350",
   "metadata": {},
   "outputs": [],
   "source": []
  },
  {
   "cell_type": "markdown",
   "id": "41a594ef",
   "metadata": {},
   "source": [
    "### Two Sample or 2 population"
   ]
  },
  {
   "cell_type": "code",
   "execution_count": 25,
   "id": "c419df1a",
   "metadata": {},
   "outputs": [],
   "source": [
    "Control = pd.Series([91, 87, 99, 77, 88,91])  # placebo effect - pill with no effect\n",
    "Treat = pd.Series([101, 110, 103, 93, 99, 104])  # actual drug is given"
   ]
  },
  {
   "cell_type": "code",
   "execution_count": null,
   "id": "381b7204",
   "metadata": {},
   "outputs": [],
   "source": [
    "# H0 : mu1 - mu2 =0   they have same effect\n",
    "# Ha : mu1 - mu2 != 0  they have diff effect but which 1 if better we dont know"
   ]
  },
  {
   "cell_type": "code",
   "execution_count": 27,
   "id": "dc6868f6",
   "metadata": {},
   "outputs": [
    {
     "data": {
      "text/plain": [
       "Ttest_indResult(statistic=-3.445612673536487, pvalue=0.006272124350809803)"
      ]
     },
     "execution_count": 27,
     "metadata": {},
     "output_type": "execute_result"
    }
   ],
   "source": [
    "stats.ttest_ind(Control,Treat,alternative='two-sided')"
   ]
  },
  {
   "cell_type": "code",
   "execution_count": null,
   "id": "ddccd3e0",
   "metadata": {},
   "outputs": [],
   "source": [
    "## p value is very less compared to significance level so we can reject the null hypothesis "
   ]
  },
  {
   "cell_type": "code",
   "execution_count": null,
   "id": "ae7c74e9",
   "metadata": {},
   "outputs": [],
   "source": []
  },
  {
   "cell_type": "code",
   "execution_count": null,
   "id": "10318672",
   "metadata": {},
   "outputs": [],
   "source": [
    "# H0 : muC <= muT    Control have less effect\n",
    "# Ha : muC > muT     Control have more effect"
   ]
  },
  {
   "cell_type": "code",
   "execution_count": 28,
   "id": "eaa19067",
   "metadata": {},
   "outputs": [
    {
     "data": {
      "text/plain": [
       "Ttest_indResult(statistic=-3.445612673536487, pvalue=0.996863937824595)"
      ]
     },
     "execution_count": 28,
     "metadata": {},
     "output_type": "execute_result"
    }
   ],
   "source": [
    "stats.ttest_ind(Control,Treat,alternative='greater') # c>t  - sequence"
   ]
  },
  {
   "cell_type": "code",
   "execution_count": null,
   "id": "93e3e3a8",
   "metadata": {},
   "outputs": [],
   "source": [
    "## p value is very high compared to significance level of 5% so we can't reject the null hypothesis\n",
    "#### control group has less effect compared to control group "
   ]
  },
  {
   "cell_type": "code",
   "execution_count": null,
   "id": "11eae054",
   "metadata": {},
   "outputs": [],
   "source": []
  },
  {
   "cell_type": "code",
   "execution_count": null,
   "id": "10a66258",
   "metadata": {},
   "outputs": [],
   "source": [
    "# H0 : muC >= muT    Treatment have less effect\n",
    "# Ha : muC < muT     Treatment have more effect"
   ]
  },
  {
   "cell_type": "code",
   "execution_count": 29,
   "id": "12848776",
   "metadata": {},
   "outputs": [
    {
     "data": {
      "text/plain": [
       "Ttest_indResult(statistic=-3.445612673536487, pvalue=0.0031360621754049013)"
      ]
     },
     "execution_count": 29,
     "metadata": {},
     "output_type": "execute_result"
    }
   ],
   "source": [
    "stats.ttest_ind(Control,Treat,alternative='less') # c<t  - sequence"
   ]
  },
  {
   "cell_type": "code",
   "execution_count": null,
   "id": "4bf133e0",
   "metadata": {},
   "outputs": [],
   "source": [
    "## p value is very less compared to significance level so we can reject the null hypothesis \n",
    "\n",
    "# Treatment group has more effect than controlled group\n"
   ]
  },
  {
   "cell_type": "code",
   "execution_count": null,
   "id": "2b2516be",
   "metadata": {},
   "outputs": [],
   "source": [
    "# ind - independent Samples"
   ]
  },
  {
   "cell_type": "markdown",
   "id": "350493b1",
   "metadata": {},
   "source": [
    "### 2 Proportion Test"
   ]
  },
  {
   "cell_type": "code",
   "execution_count": null,
   "id": "5626fb71",
   "metadata": {},
   "outputs": [],
   "source": [
    "#Proportion Test: when we want to compare between 2 samples (states/schools/teams etc)\n"
   ]
  },
  {
   "cell_type": "code",
   "execution_count": 35,
   "id": "2faf2fce",
   "metadata": {},
   "outputs": [],
   "source": [
    "# lets compare employeement rate of two sates - n1 = Maharashtra n2 = Gujarat\n",
    "\n",
    "n1 = 100000\n",
    "p1 = 0.35\n",
    "n2 = 100000\n",
    "p2 = 0.4\n",
    "\n",
    "m = np.random.binomial(1,p1,n1) # probability of 1 =0.35 & 0=0.65           -sequence of p1,n1\n",
    "g = np.random.binomial(1,p2,n2) # probability of 1 =0.4 & 0=0.6\n",
    "\n",
    "# distributing probability using binomial distribution i.e into 1 & 0 "
   ]
  },
  {
   "cell_type": "code",
   "execution_count": 36,
   "id": "736f23e9",
   "metadata": {},
   "outputs": [
    {
     "data": {
      "text/plain": [
       "array([1, 0, 0, ..., 1, 0, 0])"
      ]
     },
     "execution_count": 36,
     "metadata": {},
     "output_type": "execute_result"
    }
   ],
   "source": [
    "m"
   ]
  },
  {
   "cell_type": "code",
   "execution_count": 37,
   "id": "aee7c249",
   "metadata": {},
   "outputs": [
    {
     "data": {
      "text/plain": [
       "array([1, 0, 0, ..., 1, 1, 0])"
      ]
     },
     "execution_count": 37,
     "metadata": {},
     "output_type": "execute_result"
    }
   ],
   "source": [
    "g"
   ]
  },
  {
   "cell_type": "code",
   "execution_count": 51,
   "id": "3527d79f",
   "metadata": {},
   "outputs": [
    {
     "data": {
      "text/plain": [
       "(-22.3625247813394, 1.2476587943773512e-110, 199998.0)"
      ]
     },
     "execution_count": 51,
     "metadata": {},
     "output_type": "execute_result"
    }
   ],
   "source": [
    "import statsmodels.api as smf\n",
    "\n",
    "smf.stats.ttest_ind(m,g) # no need to mention alternative \n"
   ]
  },
  {
   "cell_type": "code",
   "execution_count": null,
   "id": "5c45d0ea",
   "metadata": {},
   "outputs": [],
   "source": [
    "( t statistics, pvalue , dof)"
   ]
  },
  {
   "cell_type": "code",
   "execution_count": null,
   "id": "e8454832",
   "metadata": {},
   "outputs": [],
   "source": []
  },
  {
   "cell_type": "code",
   "execution_count": 52,
   "id": "2187e33f",
   "metadata": {},
   "outputs": [
    {
     "data": {
      "text/plain": [
       "Ttest_indResult(statistic=-22.36252478133944, pvalue=1.2476587943761782e-110)"
      ]
     },
     "execution_count": 52,
     "metadata": {},
     "output_type": "execute_result"
    }
   ],
   "source": [
    "stats.ttest_ind(m,g) # we can use but we dont get DOF in this method - by default two-sided"
   ]
  },
  {
   "cell_type": "code",
   "execution_count": 53,
   "id": "81f720bd",
   "metadata": {},
   "outputs": [
    {
     "data": {
      "text/plain": [
       "Ttest_indResult(statistic=-22.36252478133944, pvalue=6.238293971880891e-111)"
      ]
     },
     "execution_count": 53,
     "metadata": {},
     "output_type": "execute_result"
    }
   ],
   "source": [
    "stats.ttest_ind(m,g,alternative='less')"
   ]
  },
  {
   "cell_type": "code",
   "execution_count": 54,
   "id": "f2606925",
   "metadata": {},
   "outputs": [
    {
     "data": {
      "text/plain": [
       "Ttest_indResult(statistic=-22.36252478133944, pvalue=1.0)"
      ]
     },
     "execution_count": 54,
     "metadata": {},
     "output_type": "execute_result"
    }
   ],
   "source": [
    "stats.ttest_ind(m,g,alternative='greater')"
   ]
  },
  {
   "cell_type": "code",
   "execution_count": null,
   "id": "e0df712e",
   "metadata": {},
   "outputs": [],
   "source": []
  },
  {
   "cell_type": "code",
   "execution_count": null,
   "id": "4fc23719",
   "metadata": {},
   "outputs": [],
   "source": [
    "### 2nd trial"
   ]
  },
  {
   "cell_type": "code",
   "execution_count": 63,
   "id": "db19c5b0",
   "metadata": {},
   "outputs": [
    {
     "data": {
      "text/plain": [
       "(-22.88057649853429, 1.0224682332162372e-115, 199998.0)"
      ]
     },
     "execution_count": 63,
     "metadata": {},
     "output_type": "execute_result"
    }
   ],
   "source": [
    "# lets compare employeement rate of two sates - n1 = Maharashtra n2 = Gujarat\n",
    "\n",
    "n1 = 100000\n",
    "p1 = 0.35\n",
    "n2 = 100000\n",
    "p2 = 0.4\n",
    "\n",
    "m = np.random.binomial(1,p1,n1) # probability of 1 =0.35 & 0=0.65           -sequence of p1,n1\n",
    "g = np.random.binomial(1,p2,n2) # probability of 1 =0.4 & 0=0.6\n",
    "\n",
    "# distributing probability using binomial distribution i.e into 1 & 0 \n",
    "\n",
    "\n",
    "smf.stats.ttest_ind(m,g,alternative='two-sided')"
   ]
  },
  {
   "cell_type": "code",
   "execution_count": 64,
   "id": "b7fd085a",
   "metadata": {},
   "outputs": [
    {
     "data": {
      "text/plain": [
       "(22.945159012907926, 2.3305579308913317e-116, 199998.0)"
      ]
     },
     "execution_count": 64,
     "metadata": {},
     "output_type": "execute_result"
    }
   ],
   "source": [
    "# lets compare employeement rate of two sates - n1 = Maharashtra n2 = Gujarat\n",
    "\n",
    "n1 = 100000\n",
    "p1 = 0.4\n",
    "n2 = 100000\n",
    "p2 = 0.35\n",
    "\n",
    "m = np.random.binomial(1,p1,n1) # probability of 1 =0.4 & 0=0.6           -sequence of p1,n1\n",
    "g = np.random.binomial(1,p2,n2) # probability of 1 =0.35 & 0=0.65\n",
    "\n",
    "# distributing probability using binomial distribution i.e into 1 & 0 \n",
    "\n",
    "\n",
    "smf.stats.ttest_ind(m,g)"
   ]
  },
  {
   "cell_type": "code",
   "execution_count": null,
   "id": "5f1e1659",
   "metadata": {},
   "outputs": [],
   "source": []
  },
  {
   "cell_type": "code",
   "execution_count": null,
   "id": "61fca227",
   "metadata": {},
   "outputs": [],
   "source": []
  },
  {
   "cell_type": "code",
   "execution_count": null,
   "id": "20e9d337",
   "metadata": {},
   "outputs": [],
   "source": []
  }
 ],
 "metadata": {
  "kernelspec": {
   "display_name": "Python 3 (ipykernel)",
   "language": "python",
   "name": "python3"
  },
  "language_info": {
   "codemirror_mode": {
    "name": "ipython",
    "version": 3
   },
   "file_extension": ".py",
   "mimetype": "text/x-python",
   "name": "python",
   "nbconvert_exporter": "python",
   "pygments_lexer": "ipython3",
   "version": "3.9.7"
  },
  "varInspector": {
   "cols": {
    "lenName": 16,
    "lenType": 16,
    "lenVar": 40
   },
   "kernels_config": {
    "python": {
     "delete_cmd_postfix": "",
     "delete_cmd_prefix": "del ",
     "library": "var_list.py",
     "varRefreshCmd": "print(var_dic_list())"
    },
    "r": {
     "delete_cmd_postfix": ") ",
     "delete_cmd_prefix": "rm(",
     "library": "var_list.r",
     "varRefreshCmd": "cat(var_dic_list()) "
    }
   },
   "types_to_exclude": [
    "module",
    "function",
    "builtin_function_or_method",
    "instance",
    "_Feature"
   ],
   "window_display": false
  }
 },
 "nbformat": 4,
 "nbformat_minor": 5
}
